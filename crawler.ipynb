{
 "cells": [
  {
   "cell_type": "code",
   "execution_count": 55,
   "metadata": {},
   "outputs": [],
   "source": [
    "import requests\n",
    "import json\n",
    "import urllib.request\n",
    "import os\n",
    "import argparse\n",
    "import re"
   ]
  },
  {
   "cell_type": "code",
   "execution_count": 43,
   "metadata": {},
   "outputs": [],
   "source": [
    "repo_url = \"https://cloud.tsinghua.edu.cn/d/ba64d0debd0e4ad4bf92/\"\n",
    "id = \"ba64d0debd0e4ad4bf92\"\n",
    "url = f\"https://cloud.tsinghua.edu.cn/api/v2.1/share-links/{id}/dirents\"\n",
    "params = {\n",
    "    \"thumbnail_size\": \"48\",\n",
    "    \"path\": \"/\",\n",
    "}\n",
    "response = requests.get(url, params=params)"
   ]
  },
  {
   "cell_type": "code",
   "execution_count": 54,
   "metadata": {},
   "outputs": [],
   "source": [
    "def args_parse() -> argparse.Namespace:\n",
    "    parser = argparse.ArgumentParser()\n",
    "    parser.add_argument('-u', '--url', type=str, required=True, help='url to crawl')\n",
    "    return parser.parse_args()"
   ]
  },
  {
   "cell_type": "code",
   "execution_count": 56,
   "metadata": {},
   "outputs": [],
   "source": [
    "def get_id(url: str) -> str:\n",
    "    pattern = re.compile('/d/([a-z0-9\\-]+)/')\n",
    "    match = re.search(url, pattern)\n",
    "    if match:\n",
    "        return match.group(1)\n",
    "    else:\n",
    "        print('Error: invalid url')\n",
    "        exit(1)"
   ]
  },
  {
   "cell_type": "code",
   "execution_count": 40,
   "metadata": {},
   "outputs": [],
   "source": [
    "def file_download(repo_url: str, file_path_list: list): \n",
    "    # Download file\n",
    "    file_download_url = repo_url + \"files\"\n",
    "\n",
    "    # 加入param{\"dl\": 1}可以直接下载\n",
    "    for path in file_path_list:\n",
    "        params = {\"p\": path, \"dl\": 1}\n",
    "        r = requests.get(file_download_url, params=params)\n",
    "        file_url = r.url\n",
    "        print(file_url)\n",
    "        file_name = path.split(\"/\")[-1]\n",
    "        print(\"Downloading\", file_name, \"...\")\n",
    "        urllib.request.urlretrieve(file_url, file_name)"
   ]
  },
  {
   "cell_type": "code",
   "execution_count": 57,
   "metadata": {},
   "outputs": [],
   "source": [
    "# Download directory\n",
    "def dir_download(repo_url: str, path: str, id: str, url: str):\n",
    "    params = {\n",
    "        \"thumbnail_size\": \"48\",\n",
    "        \"path\": path,\n",
    "    }\n",
    "    response = requests.get(url, params=params)\n",
    "    response_items = json.loads(response.text)['dirent_list']\n",
    "    dir_path_list = []\n",
    "    file_path_list = []\n",
    "    for item in response_items:\n",
    "        if item['is_dir']:\n",
    "            dir_path_list.append(item['folder_path'])\n",
    "        else:\n",
    "            file_path_list.append(item['file_path'])\n",
    "    file_download(repo_url=repo_url, file_path_list=file_path_list)\n",
    "\n",
    "    while len(dir_path_list) > 0:\n",
    "        dir_path = dir_path_list.pop()\n",
    "        # Create directory\n",
    "        if not os.path.exists(dir_path.split('/')[-2]):\n",
    "            os.makedirs(dir_path.split('/')[-2])\n",
    "        # Change directory\n",
    "        os.chdir(dir_path.split('/')[-2])\n",
    "        dir_download(repo_url=repo_url, path=dir_path)\n",
    "    if os.path.basename(os.getcwd()) != current_dir:\n",
    "        os.chdir('..')\n",
    "        return"
   ]
  },
  {
   "cell_type": "code",
   "execution_count": null,
   "metadata": {},
   "outputs": [],
   "source": [
    "if __name__ == \"__main__\":\n",
    "    args = args_parse()\n",
    "\n",
    "    current_dir = os.path.basename(os.getcwd())\n",
    "    repo_url = args.url\n",
    "    id = get_id(repo_url)\n",
    "    url = f\"https://cloud.tsinghua.edu.cn/api/v2.1/share-links/{id}/dirents\"\n",
    "\n",
    "    dir_download(repo_url, '/', id, url)"
   ]
  }
 ],
 "metadata": {
  "kernelspec": {
   "display_name": "crawler",
   "language": "python",
   "name": "python3"
  },
  "language_info": {
   "codemirror_mode": {
    "name": "ipython",
    "version": 3
   },
   "file_extension": ".py",
   "mimetype": "text/x-python",
   "name": "python",
   "nbconvert_exporter": "python",
   "pygments_lexer": "ipython3",
   "version": "3.10.12"
  },
  "orig_nbformat": 4
 },
 "nbformat": 4,
 "nbformat_minor": 2
}
